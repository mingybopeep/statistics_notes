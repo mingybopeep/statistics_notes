{
 "cells": [
  {
   "cell_type": "markdown",
   "metadata": {},
   "source": [
    "# Two Tailed Test Exercise\n",
    "You work in a book store. Your manager believes that the colour of the store walls affects people's spending. Previously your store had red interior and customers were spending 57USD on average with standard deviation 20USD. Now the walls are green and the mean spend of the random sample of 80 customers you selected is 62USD. Has there been a significant change (95\\% confidence)?\n",
    "\n",
    "**H0: There has not been a change**\n",
    "\n",
    "**H1: There has been a significant change**\n",
    "\n",
    "**Population**\n",
    "- mean = 57\n",
    "- stdev = 20\n",
    "\n",
    "**Sampling Distribution**\n",
    "- n = 80\n",
    "- mean = 57\n",
    "- stddev = popsd / root(n) = 20 / root(80)\n",
    "\n",
    "**Event**\n",
    "- value = 62\n",
    "- (mean - sample mean) / (sampling sd) = 5 / 2.24\n",
    "- = 2.23 in the Z table => 0,0129 = 1.29%\n",
    "\n",
    "There is a 1.29% of pulling this sample if the null hypothesis is true. \n",
    "The test is for 95% confidence = 5% p value **divide by 2 because it's a 2 tailed test = 2.5%**. 1.29% < 2.5%, therefore the null hypothesis is rejected. \n",
    "\n",
    "The color is affecting the customer spending"
   ]
  },
  {
   "cell_type": "code",
   "execution_count": null,
   "metadata": {},
   "outputs": [],
   "source": []
  }
 ],
 "metadata": {
  "kernelspec": {
   "display_name": "Python 3",
   "language": "python",
   "name": "python3"
  },
  "language_info": {
   "codemirror_mode": {
    "name": "ipython",
    "version": 3
   },
   "file_extension": ".py",
   "mimetype": "text/x-python",
   "name": "python",
   "nbconvert_exporter": "python",
   "pygments_lexer": "ipython3",
   "version": "3.8.5"
  }
 },
 "nbformat": 4,
 "nbformat_minor": 4
}
