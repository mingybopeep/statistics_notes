{
 "cells": [
  {
   "cell_type": "markdown",
   "metadata": {},
   "source": [
    "# Student's t-Distribution\n",
    "Used to generate inferences about a population from a very small sample size. It is essentially a modified normal distibution. \n",
    "\n",
    "<img src='https://upload.wikimedia.org/wikipedia/commons/thumb/4/41/Student_t_pdf.svg/325px-Student_t_pdf.svg.png' style='margin-left: 0; width: 50vw;'>\n",
    "\n",
    "The t-Distribution shape depends on its degrees of freedom. Degrees of freedom = samplesize n - 1\n",
    "\n",
    "- A t-disribution will have heavier tails than a normal distribution. \n",
    "- As degrees of freedom approach infinity, the t distribution shape approaches that of a normal distribution. \n",
    "\n",
    "The benefit of using a t-distribution is that it facilitates the use of small sample sizes. This comes at the cost of precision, due to the heavier tails. Therefore in a t-distribution a given value will have a higher confidence probability vs the same value in a normal distribution. \n",
    "\n",
    "It's more difficult to reject a null hypothesis. This is useful though, because when using a small sample size, you need more of a buffer to prevent false rejections. \n",
    "\n",
    "\n",
    "## When to use a T-test?\n",
    "Population standard deviation is unknown **AND** sample size is less than 30"
   ]
  },
  {
   "cell_type": "markdown",
   "metadata": {},
   "source": [
    "# T-Test Example\n",
    "It is recommended to walk 10,000 steps per day to be healthy. You surveyed **10 random people** about how many steps each of them takes per day on average and got the following responses: \n",
    "\n",
    "7900, 8200, 11350, 10150, 8200, 9600, 6950, 6200, 8950, 8450\n",
    "\n",
    "It is evident that within your sample on average respondents are taking less than 10,000 steps, but can you infer the same for the whole population of the US. \n",
    "\n",
    "**Population**\n",
    "- Population mean = 10,000\n",
    "- Population StdDev = ????\n",
    "\n",
    "In a Z-test, we have a population mean, and we have a standard deviation, and we build a sampling distribution of the sample statistic.\n",
    "\n",
    "In a T-test, we don't have a standard deviation, so we build a distribution around a mean 0. \n",
    "\n",
    "We have the following sttistics available to us: \n",
    "- sample standard deviation: sd [7900, 8200, 11350, 10150, 8200, 9600, 6950, 6200, 8950, 8450] => 1428.36 | This is a sd of the actual sample, not a sampling distribution.\n",
    "- mu = population mean = 10000\n",
    "- xbar = sample mean = mean [7900, 8200, 11350, 10150, 8200, 9600, 6950, 6200, 8950, 8450] => 8595\n",
    "- degrees of freedom = n - 1 = 9\n",
    "\n",
    "**T-statistic formula**\n",
    "\n",
    "*t = (sample mean - population mean ) / (sample mean / root(degrees of freedom))*\n",
    "\n",
    "Then you look up the critical value based on your confidence interval and your degrees of freedom in the t-table, and you compare this number to your *t* value. \n",
    "\n",
    "\n"
   ]
  },
  {
   "cell_type": "code",
   "execution_count": null,
   "metadata": {},
   "outputs": [],
   "source": []
  }
 ],
 "metadata": {
  "kernelspec": {
   "display_name": "Python 3",
   "language": "python",
   "name": "python3"
  },
  "language_info": {
   "codemirror_mode": {
    "name": "ipython",
    "version": 3
   },
   "file_extension": ".py",
   "mimetype": "text/x-python",
   "name": "python",
   "nbconvert_exporter": "python",
   "pygments_lexer": "ipython3",
   "version": "3.8.5"
  }
 },
 "nbformat": 4,
 "nbformat_minor": 4
}
