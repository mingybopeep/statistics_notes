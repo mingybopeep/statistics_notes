{
 "cells": [
  {
   "cell_type": "markdown",
   "metadata": {},
   "source": [
    "# Proportion Testing\n",
    "## Example Scenario\n",
    "According to a 2016 survey, 58% of American homes have tablets. \n",
    "\n",
    "Your manager has asked you to test the hypothesis with 97% significance that 58% of American homes have a tablet. \n",
    "\n",
    "You surveyed 100 random US households and found that 73 of them had tablets. \n",
    "\n",
    "- H0: 58% or fewer homes have a tablet.\n",
    "- H1: more than 58% of homes have a tablet.\n",
    "\n",
    "Previously, we have conducted hypothesis tests using the mean statistic. In this scenario, we are testing the proportion statistic - not the mean. \n",
    "\n",
    "To use this method, we must check that the **proportion of the sample that is positive, p hat, is more than 10**, and, that the **proportion of the sample that is negative, q hat, is more than 10**.\n",
    "\n",
    "- n = 100\n",
    "- p-hat = 73%\n",
    "- q-hat = 27%\n",
    "\n",
    "\n",
    "- p-hat * n = 73 > 10\n",
    "- q-hat * n = 27 > 10\n",
    "\n",
    "In proportion testing:\n",
    "\n",
    "the **mean of the population = p**\n",
    "\n",
    "the **standard deviation of the population is equal to root( populationp * populationq )**\n",
    "\n",
    "\n",
    "Just like in hypothesis testing for the sample mean, we want to apply CLT and build a distribution of proportions. \n",
    "\n",
    "The idea is, if I take loads of samples, each of sample size n, and then for each sample, plot the frequency of occurence for different values of p, the result will be a normal distribution, with \n",
    "\n",
    "**For the sampling distribution:**\n",
    "\n",
    "- mean = populationp\n",
    "- sd = population standard deviation / root( n )\n",
    "\n",
    "The idea is the same, place p-hat, in this case 0.73, on your sampling distribution, compute the difference from the mean, and divide by standard deviation. Then look it up in the Z table. "
   ]
  },
  {
   "cell_type": "code",
   "execution_count": 7,
   "metadata": {},
   "outputs": [
    {
     "data": {
      "text/plain": [
       "2.5862068965517246"
      ]
     },
     "execution_count": 7,
     "metadata": {},
     "output_type": "execute_result"
    }
   ],
   "source": [
    "import math\n",
    "\n",
    "#The population \n",
    "populationp = 0.58\n",
    "populationq = 1-populationp\n",
    "populationsigma = math.sqrt(populationp * populationq)\n",
    "\n",
    "#The sample distribution \n",
    "n = 100\n",
    "samplemean = populationp\n",
    "samplesigma = samplemean / math.sqrt(n)\n",
    "\n",
    "#Finally, where does the event lie on the distribution?\n",
    "p_hat = 0.73\n",
    "(p_hat - samplemean) / samplesigma"
   ]
  },
  {
   "cell_type": "markdown",
   "metadata": {},
   "source": [
    "Looking this value up in the Z table gives a probability of 0.9951 = 99.51%, which means there is a 0.4% chance that a sample of 73/100 households with tablet could be obained in a world where the 58% in the original sttement's statistic is true. \n",
    "\n",
    "The null hypothesis is rejected. \n"
   ]
  },
  {
   "cell_type": "code",
   "execution_count": null,
   "metadata": {},
   "outputs": [],
   "source": []
  }
 ],
 "metadata": {
  "kernelspec": {
   "display_name": "Python 3",
   "language": "python",
   "name": "python3"
  },
  "language_info": {
   "codemirror_mode": {
    "name": "ipython",
    "version": 3
   },
   "file_extension": ".py",
   "mimetype": "text/x-python",
   "name": "python",
   "nbconvert_exporter": "python",
   "pygments_lexer": "ipython3",
   "version": "3.8.5"
  }
 },
 "nbformat": 4,
 "nbformat_minor": 4
}
