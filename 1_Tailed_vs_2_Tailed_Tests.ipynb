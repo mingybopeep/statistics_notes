{
 "cells": [
  {
   "attachments": {},
   "cell_type": "markdown",
   "metadata": {},
   "source": [
    "# 1 Tail v 2 Tail Tests \n",
    "\n",
    "<img src='https://study.com/cimages/multimages/16/04de558c-5ad3-4c48-9508-efc123e36973_one-tail_with_alpha.png' style='width: 50vw; margin-left: 0;' />\n",
    "\n",
    "A one tailed test is a test whether something is greater than a given value. \n",
    "\n",
    "**OR**\n",
    "\n",
    "A one tailed test is a test whether something is less than a given value.\n",
    "\n",
    "**But it does not test if something is more or less than a value at the same time.**\n",
    "\n",
    "This is in contrast to a 2 tailed test\n",
    "\n",
    "<img src='https://stats.idre.ucla.edu/wp-content/uploads/2016/02/pvalue1.gif' style='width:50vw; margin: 0;'/>\n",
    "\n",
    "In a 2 tailed test, the goal is to test if something is more or less than a value. It is a measure of dispersion, and does not care about direction.\n",
    "\n",
    "\n",
    "## Examples of which test to use\n",
    "A factory producing juice claims there is no more than 10g of sugar per serving. \n",
    "\n",
    "h0: There is less than or equal to 10g of sugar per serving. \n",
    "h1: There is more than 10g of sugar per serving. \n",
    "\n",
    "This is a one sided test because it is specifiying direction. \n",
    "\n",
    "<hr>\n",
    "\n",
    "A factory producing paper claims the thickness of each sheet is 0.05mm. \n",
    "\n",
    "h0: Each sheet = 0.05mm\n",
    "h1: Each sheet != 0.05mm\n",
    "\n",
    "This is a 2 sided test because it is not specifying a direction (more than, less than), it is just stating a value, and the goal is to see whether reality aligns with that value.\n",
    "\n",
    "<hr>\n",
    "\n",
    "In hypothesis testing, you only have a given area of acceptance. Eg, A 90% confidence level means that 90% of the values i.e. 90% of the area under the curve is your acceptance area. Anything outside of that allocated 90% is your rejection area. \n",
    "\n",
    "In a single tail test, you can divide the chart into 2 segments: 90% and 10%. In a 2 tailed test, you have to split the chart into 3 segments: The 90% acceptance zone, and then on either side of it you have a 5% rejection zone.\n",
    "\n",
    "<hr>\n",
    "\n",
    "In the real world, two tailed tests are favoured because they don't assume a direction. In the real world, there's no certainty about whether something will go up or down, so it's better to use a 2 tailed test"
   ]
  },
  {
   "cell_type": "code",
   "execution_count": null,
   "metadata": {},
   "outputs": [],
   "source": []
  }
 ],
 "metadata": {
  "kernelspec": {
   "display_name": "Python 3",
   "language": "python",
   "name": "python3"
  },
  "language_info": {
   "codemirror_mode": {
    "name": "ipython",
    "version": 3
   },
   "file_extension": ".py",
   "mimetype": "text/x-python",
   "name": "python",
   "nbconvert_exporter": "python",
   "pygments_lexer": "ipython3",
   "version": "3.8.5"
  }
 },
 "nbformat": 4,
 "nbformat_minor": 4
}
