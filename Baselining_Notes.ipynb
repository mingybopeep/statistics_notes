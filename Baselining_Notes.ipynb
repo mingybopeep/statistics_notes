{
 "cells": [
  {
   "cell_type": "markdown",
   "metadata": {},
   "source": [
    "# Baselining and Forecasting\n",
    "**Baselining**\n",
    "1. Plot data.\n",
    "2. Remove outliers and noise if possible. \n",
    "3. Estimate the average and understand variability (mean, sd).\n",
    "4. Search for patterns (seasonality, step change). \n",
    "5. Look at dependencies - What are the inputs that influence the outputs we measured?\n",
    "\n",
    "**Forecasting**\n",
    "- Methods: Qualitative vs. Quantitative methods. \n",
    "- Average approach - Expect future = historical mean. \n",
    "- Naive approach - Expect future = last data point. \n",
    "- Drift method - Expect future = trend from first point to last point from our dataset.\n",
    "- Seasonal naive - If data follows seasonal pattern, expect future = seasonal pattern applied to the last data point recorded. \n",
    "- Time series methods - Rolling average, weighted rolling average. \n",
    "- Casual forecasting - looks at factors that influence the KPI, rather than just the KPI itself.\n",
    "- Judgemental methods - used when lack of data, uses expert opinions instead. \n",
    "- Machine Learning methods\n",
    "\n"
   ]
  },
  {
   "cell_type": "code",
   "execution_count": null,
   "metadata": {},
   "outputs": [],
   "source": []
  }
 ],
 "metadata": {
  "kernelspec": {
   "display_name": "Python 3",
   "language": "python",
   "name": "python3"
  },
  "language_info": {
   "codemirror_mode": {
    "name": "ipython",
    "version": 3
   },
   "file_extension": ".py",
   "mimetype": "text/x-python",
   "name": "python",
   "nbconvert_exporter": "python",
   "pygments_lexer": "ipython3",
   "version": "3.8.5"
  }
 },
 "nbformat": 4,
 "nbformat_minor": 4
}
