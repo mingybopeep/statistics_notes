{
 "cells": [
  {
   "attachments": {},
   "cell_type": "markdown",
   "metadata": {},
   "source": [
    "# Pareto Principle Notes\n",
    "The pareto principle essentially states that there is a non-linear, hyperbolic relationship between resource inputs and results. \n",
    "<img src='https://www.graphpad.com/guides/prism/8/curve-fitting/images/_bm70.png' style='width: 50vw; margin: 0;' />\n",
    "\n",
    "- 80% of results come from 20% of efforts. \n",
    "- Therefore we can say that the ROI on the last 80% is significantly lower than on the first 20%. \n",
    "- From an economics perspective, we should seek to maximise ROI, and seek to eliminate sub-optimal resource expenditure. \n",
    "- Work follows a pattern of diminishing returns, therefore at some point it makes sense to stop, and put your effort into other, more rewarding pursuits.\n",
    "- Trimming the fat is a smart and economical approach.\n",
    "\n",
    "## Leveraging the Pareto Principle\n",
    "The pareto principle can be applied iteratively to reduce input efforts to only the most minimal, whilst maximising the ROI. \n",
    "\n",
    "**Example**\n",
    "- Start with 100% effort and 100% results.\n",
    "- Apply pareto and find that 80% of results are coming from 20% of efforts.\n",
    "- Cut out the other 80% of low ROI effort, now you have 20% effort and 80% results.\n",
    "- Repeat pareto evaluation\n",
    "- 4% efforts (20% * 20%), 64% results (80% * 80*)\n",
    "- Repeat pareto analysis and cut the extra effort out.\n",
    "- 1% efforts now lead to 64% * 80%  = 51%"
   ]
  },
  {
   "cell_type": "code",
   "execution_count": null,
   "metadata": {},
   "outputs": [],
   "source": []
  }
 ],
 "metadata": {
  "kernelspec": {
   "display_name": "Python 3",
   "language": "python",
   "name": "python3"
  },
  "language_info": {
   "codemirror_mode": {
    "name": "ipython",
    "version": 3
   },
   "file_extension": ".py",
   "mimetype": "text/x-python",
   "name": "python",
   "nbconvert_exporter": "python",
   "pygments_lexer": "ipython3",
   "version": "3.8.5"
  }
 },
 "nbformat": 4,
 "nbformat_minor": 4
}
