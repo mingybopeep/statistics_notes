{
 "cells": [
  {
   "cell_type": "markdown",
   "metadata": {},
   "source": [
    "# Proportion Testing\n",
    "## Scenario\n",
    "You are a consultant engaged by a factory that manufactures spoons. \n",
    "\n",
    "The factory executives recently spent 10,000,000USD upgrading equipment and processes in order to combat excessively high defects in manufacturing (**23%**) which were leading to high return rates from clients. \n",
    "\n",
    "You have been asked to prove (with **95% confidence**) that new equipment has improved the situation and that the number of defective spoons has decreased to **under 18%**. You have been supplied with a random sample of **150 spoons** and found that **23 spoons have defects**. \n",
    "\n",
    "There are 2 problems here: \n",
    "1. Test whether the situation has improved from 23% defect rate. \n",
    "2. Test whether the situation has less than 18% defect rate. \n",
    "\n",
    "\n",
    "## Solution to Q1\n",
    "I will apply CLT by producing a sampling distribution. \n",
    "- H0: The defect rate has not decreased below 23%. \n",
    "- H1: The defect rate has decreased below 23%. \n",
    "\n",
    "### Parameters\n",
    "**Population**\n",
    "- p = 0.23\n",
    "- q = 0.77\n",
    "- sigma = root(pq)\n",
    "\n",
    "**Sampling distribution**\n",
    "- n = 150\n",
    "- p-hat = p\\*n = 0.23 * 150\n",
    "- samplep = p\n",
    "- samplesigma = sigma / root(n) = root(pq)/root(150)\n",
    "\n",
    "**Event**\n",
    "- eventp = 23/150\n",
    "- (eventp - samplep) / samplesigma => Z-table"
   ]
  },
  {
   "cell_type": "code",
   "execution_count": 3,
   "metadata": {},
   "outputs": [
    {
     "data": {
      "text/plain": [
       "-2.2312227540868665"
      ]
     },
     "execution_count": 3,
     "metadata": {},
     "output_type": "execute_result"
    }
   ],
   "source": [
    "import math\n",
    "#population\n",
    "populationp = 0.23\n",
    "populationq = 1-populationp\n",
    "populationsigma = math.sqrt(populationp * populationq)\n",
    "\n",
    "#sampling dist\n",
    "n = 150 \n",
    "samplep = populationp\n",
    "samplesigma = populationsigma / math.sqrt(n)\n",
    "\n",
    "#event\n",
    "eventp = 23/150\n",
    "(eventp - samplep)/ samplesigma"
   ]
  },
  {
   "cell_type": "markdown",
   "metadata": {},
   "source": [
    "In the Z-table, the result is 0.0129, meaning there is a 1.29% chance of pulling 23 defected spoons from a 150 sample if the population proportion of defective spoons is 23%. \n",
    "\n",
    "Therefore the null hypothesis is rejected. There has been an improvement. "
   ]
  },
  {
   "cell_type": "markdown",
   "metadata": {},
   "source": [
    "## Solution to Q2 \n",
    "We are comparing the 150 spoon sample to the scenario of an 18% defect rate. **The initial 23% information is irrelevant here.**\n",
    "- H0: The defect rate has not decreased below 18%. \n",
    "- H1: The defect rate has decreased below 18%. \n",
    "\n",
    "\n",
    "### Parameters\n",
    "**Population**\n",
    "- p = 0.18\n",
    "- q = 0.72\n",
    "- sigma = root(pq)\n",
    "\n",
    "**Sampling distribution**\n",
    "- n = 150\n",
    "- p-hat = p\\*n = 0.23 * 150\n",
    "- samplep\n",
    "- samplesigma = sigma / root(n) = root(pq)/root(150)\n",
    "\n",
    "**Event**\n",
    "- eventp = 23/150\n",
    "- eventp - samplep / samplesigma => Z-table\n"
   ]
  },
  {
   "cell_type": "code",
   "execution_count": 4,
   "metadata": {},
   "outputs": [
    {
     "data": {
      "text/plain": [
       "-0.8501022840844511"
      ]
     },
     "execution_count": 4,
     "metadata": {},
     "output_type": "execute_result"
    }
   ],
   "source": [
    "import math\n",
    "#population\n",
    "populationp = 0.18\n",
    "populationq = 1-populationp\n",
    "populationsigma = math.sqrt(populationp * populationq)\n",
    "\n",
    "#sampling dist\n",
    "n = 150 \n",
    "samplep = populationp\n",
    "samplesigma = populationsigma / math.sqrt(n)\n",
    "\n",
    "#event\n",
    "eventp = 23/150\n",
    "(eventp - samplep)/ samplesigma"
   ]
  },
  {
   "cell_type": "markdown",
   "metadata": {},
   "source": [
    "In the Z-table, the result is 0.2005, meaning there is a 20.05% chance that the 23 defected / 150 sample could be drawn in a scenario where the population defect rate is 18%. This is an insufficiently low level of precision/ confidence, meaning that the null hypothesis cannot be rejected. \n",
    "\n",
    "The null hypothesis is accepted. We cannot say with confidence whether there has been a change. "
   ]
  },
  {
   "cell_type": "code",
   "execution_count": null,
   "metadata": {},
   "outputs": [],
   "source": []
  }
 ],
 "metadata": {
  "kernelspec": {
   "display_name": "Python 3",
   "language": "python",
   "name": "python3"
  },
  "language_info": {
   "codemirror_mode": {
    "name": "ipython",
    "version": 3
   },
   "file_extension": ".py",
   "mimetype": "text/x-python",
   "name": "python",
   "nbconvert_exporter": "python",
   "pygments_lexer": "ipython3",
   "version": "3.8.5"
  }
 },
 "nbformat": 4,
 "nbformat_minor": 4
}
