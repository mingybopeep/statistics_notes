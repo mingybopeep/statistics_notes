{
 "cells": [
  {
   "cell_type": "markdown",
   "metadata": {},
   "source": [
    "# Statistical Significance\n",
    "## Example: Coin Toss\n",
    "Consider a coin flip experiment. \n",
    "\n",
    "H0: This is a fair coin\n",
    "\n",
    "H1: This is not a fair coin\n",
    "\n",
    "Here are the results of a coin flip: \n",
    "\n",
    "Flip 1: Tails Probability 0.5\n",
    "\n",
    "Flip 2: Tails Probability 0.25\n",
    "\n",
    "Flip 3: Tails Probability 0.125\n",
    "\n",
    "Flip 4: Tails Probability 0.0625\n",
    "\n",
    "Flip 5: Tails Probability 0.03125\n",
    "\n",
    "Flip 6: Tails Probability 0.0155125\n",
    "\n",
    "\n",
    "## What's the point? \n",
    "We want to ask the question, what is the probability of a given event ocurring, eg 6 tails in a row, if the null hypothesis is true?\n",
    "\n",
    "In this scenario, the probability of 6 tails in a row, in the case of a fair coin, is extremely low, 1.5%. This low probability means we are justified in questioning the validity of the null hypothesis.\n",
    "\n",
    "Once you begin seeing events with a probability of less than 5%, you can reject a hypothesis."
   ]
  },
  {
   "cell_type": "code",
   "execution_count": null,
   "metadata": {},
   "outputs": [],
   "source": []
  }
 ],
 "metadata": {
  "kernelspec": {
   "display_name": "Python 3",
   "language": "python",
   "name": "python3"
  },
  "language_info": {
   "codemirror_mode": {
    "name": "ipython",
    "version": 3
   },
   "file_extension": ".py",
   "mimetype": "text/x-python",
   "name": "python",
   "nbconvert_exporter": "python",
   "pygments_lexer": "ipython3",
   "version": "3.8.5"
  }
 },
 "nbformat": 4,
 "nbformat_minor": 4
}
