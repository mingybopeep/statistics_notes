{
 "cells": [
  {
   "cell_type": "markdown",
   "metadata": {},
   "source": [
    "## Scenario \n",
    "A FedEx client wants to ship 36 boxes from Denver to Salt Lake City. \n",
    "They do not know the weight of the packages. \n",
    "\n",
    "From historical data, we have statistics about the client's packages. \n",
    "The mean weight is 32.66kg\n",
    "The std. dev of the weight is 1.36kg\n",
    "\n",
    "The historical data for the client is the population. \n",
    "\n",
    "The only plane available has a max cargo weight limit of 1,193kg\n",
    "\n",
    "*What is the probability that the plane can make the delivery?*\n",
    "\n",
    "\n",
    "## Solution: Model the problem using CLT"
   ]
  },
  {
   "cell_type": "code",
   "execution_count": 10,
   "metadata": {},
   "outputs": [],
   "source": [
    "mu = 32.66\n",
    "sigma = 1.36\n",
    "maxlimit = 1193\n",
    "n = 36"
   ]
  },
  {
   "cell_type": "markdown",
   "metadata": {},
   "source": [
    "There is not enough information provided to know the distribution of package weights for the actual population of this customer. \n",
    "\n",
    "A sampling distribution can be generated from the statistics we have on hand. Imagine buildiing a sampling distribution from the population, where each sample is of size 36.\n",
    "\n",
    "#### Rules of sampling distributions\n",
    "- sampling distribution mean = population mean = 32.66\n",
    "- sampling distribution stddev = population stddev / sqrt(samplesize) = 1.36 / sqrt(36)\n",
    "\n",
    "Therefore the sampling distribution will have properties: \n",
    "- mean = 32.66\n",
    "- stddev = 0.2266\n",
    "\n",
    "We have 36 boxes, and a max weight limit of 1193. Each box can weigh no more than:"
   ]
  },
  {
   "cell_type": "code",
   "execution_count": 9,
   "metadata": {},
   "outputs": [
    {
     "data": {
      "text/plain": [
       "33.138888888888886"
      ]
     },
     "execution_count": 9,
     "metadata": {},
     "output_type": "execute_result"
    }
   ],
   "source": [
    "critical = maxlimit/36\n",
    "critical"
   ]
  },
  {
   "cell_type": "markdown",
   "metadata": {},
   "source": [
    "A Z-table can be used to determine the proportion of values contained within the distribution that are less than the critical value. \n",
    "\n",
    "The distance from the mean relative to the standard deviation: \n",
    "\n",
    "**( criticalvalue - mean ) / sample standard deviation**\n",
    "\n",
    "is looked up in the Z-table. "
   ]
  },
  {
   "cell_type": "code",
   "execution_count": 12,
   "metadata": {},
   "outputs": [
    {
     "data": {
      "text/plain": [
       "2.1133666764734738"
      ]
     },
     "execution_count": 12,
     "metadata": {},
     "output_type": "execute_result"
    }
   ],
   "source": [
    "samplestddev = 0.2266\n",
    "(critical - mu) / samplestddev"
   ]
  },
  {
   "cell_type": "markdown",
   "metadata": {},
   "source": [
    "This value was looked up in the Z-table and yielded the following result: \n",
    "\n",
    "**P(mean < critical value) = 0.983 = 98.3%**\n"
   ]
  },
  {
   "cell_type": "code",
   "execution_count": null,
   "metadata": {},
   "outputs": [],
   "source": []
  }
 ],
 "metadata": {
  "kernelspec": {
   "display_name": "Python 3",
   "language": "python",
   "name": "python3"
  },
  "language_info": {
   "codemirror_mode": {
    "name": "ipython",
    "version": 3
   },
   "file_extension": ".py",
   "mimetype": "text/x-python",
   "name": "python",
   "nbconvert_exporter": "python",
   "pygments_lexer": "ipython3",
   "version": "3.8.5"
  }
 },
 "nbformat": 4,
 "nbformat_minor": 4
}
