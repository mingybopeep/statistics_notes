{
 "cells": [
  {
   "cell_type": "markdown",
   "metadata": {},
   "source": [
    "# Hypothesis Testing\n",
    "In hypothesis testing, the purpose is to determine the probability of an event occuring, given population parameters. \n",
    "\n",
    "Example: \n",
    "A 2015 study is conducted which concludes that students watch an average of 26 hours per week of TV in 2015, with a stddev of 10.\n",
    "\n",
    "Now, in 2016, after taking a random sample of 50 students, the results of this sample show a mean of 24 hours. \n",
    "\n",
    "The goal is to determine how probable it is that the number of hours watched by students has decreased, or put another way, 'What is the probability that this sample could be taken from the original dataset?'\n",
    "\n",
    "**H0:** The number of hours of TV per week watched by students has not decreased. \n",
    "\n",
    "**H1:** The number of hours of TV per wee watched by students has increased. \n",
    "\n",
    "\n",
    "**Strategy**\n",
    "Treat the problem as a CLT problem. \n",
    "1. Create sample mean distribution\n",
    "    mean = population mean \n",
    "    sd = population sd / root(n)\n",
    "    \n",
    "2. Compute distance from mean in terms of sd\n",
    "    z = (event - sample mean) / sample sd\n",
    "   \n",
    "3. Lookup in Z-Table\n",
    "\n",
    "\n"
   ]
  },
  {
   "cell_type": "code",
   "execution_count": 1,
   "metadata": {},
   "outputs": [
    {
     "data": {
      "text/plain": [
       "-1.4142135623730951"
      ]
     },
     "execution_count": 1,
     "metadata": {},
     "output_type": "execute_result"
    }
   ],
   "source": [
    "import math\n",
    "\n",
    "#Step 1\n",
    "populationmean = 26\n",
    "populationsigma = 10\n",
    "\n",
    "samplesize = 50\n",
    "samplemean = populationmean \n",
    "samplesigma = 10 / math.sqrt(samplesize)\n",
    "\n",
    "#Step 2 \n",
    "event = 24\n",
    "distance = 24 - samplemean \n",
    "z = distance / samplesigma\n",
    "z"
   ]
  },
  {
   "cell_type": "markdown",
   "metadata": {},
   "source": [
    "Step 3 \n",
    "Z table @ -1.41 =  0.081 = 8.1%\n",
    "\n",
    "8.1% means there's an 8.1% chance that the event of picking a sample with mean of 24 from our population could occur. \n",
    "\n",
    "8.1% is quite high, and therefore the event seems too likely to reject the null hypothesis. **The null hypothesis is accepted**\n",
    "\n",
    "A small probability would mean, it's very unlikely that one could obtain the event, given that the null hypothesis is true. Hence, the null hypothesis would have to be rejected. "
   ]
  },
  {
   "cell_type": "markdown",
   "metadata": {},
   "source": [
    "# Hypothesis Testing: Rejection Regions\n",
    "\n",
    "<img src='http://www.z-table.com/uploads/2/1/7/9/21795380/7807141_orig.png' style='width: 50vw; margin-left: 0;'/>\n",
    "Similarly to looking up a value in terms of standard deviation in the Z table. *event-samplemean / samplestddev*\n",
    "\n",
    "We can also lookup the standard deviation value that corresponds to a given probability. \n",
    "\n",
    "#### Example\n",
    "Tell me at what the value is there a 10% or less probability of occurence?\n",
    "\n",
    "1. Lookup the value in the Z table cell. \n",
    "2. Find the column and rows that correspond to the porbability you looked up.\n",
    "\n",
    "The value you come away with (column, row) is called the 'Z-critical value'. This is 'how many standard deviations from the mean'.\n",
    "\n",
    "The value you're looking up, the probability, is called the p-critical value. \n",
    "\n",
    "The **rejection region** can be interpreted as, 'The probability of randomly obtaining a result from this this area, is equal to the p-critical value'."
   ]
  },
  {
   "cell_type": "code",
   "execution_count": null,
   "metadata": {},
   "outputs": [],
   "source": []
  }
 ],
 "metadata": {
  "kernelspec": {
   "display_name": "Python 3",
   "language": "python",
   "name": "python3"
  },
  "language_info": {
   "codemirror_mode": {
    "name": "ipython",
    "version": 3
   },
   "file_extension": ".py",
   "mimetype": "text/x-python",
   "name": "python",
   "nbconvert_exporter": "python",
   "pygments_lexer": "ipython3",
   "version": "3.8.5"
  }
 },
 "nbformat": 4,
 "nbformat_minor": 4
}
