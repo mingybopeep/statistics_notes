{
 "cells": [
  {
   "cell_type": "markdown",
   "metadata": {},
   "source": [
    "# Homework 2: CLT\n",
    "## Scenario: Financial Analyst\n",
    "You are an analyst for an investment fund. \n",
    "\n",
    "The team of traders under your supervision earns profits which can be approximated with a Laplace distribution. Profits have a **mean of 95.70USD** and a **stddev of 1,247.00USD**. Your team makes about **100 trades per week**. \n",
    "\n",
    "### Questions\n",
    "- What is the probability of your team making a net loss in any given week?\n",
    "- What is the probability of your team making over 20,000USD per week?"
   ]
  },
  {
   "cell_type": "markdown",
   "metadata": {},
   "source": [
    "\n",
    "<h5> From Wikipedia: </h5>\n",
    "\n",
    "<q>In probability theory and statistics, the Laplace distribution is a continuous probability distribution named after Pierre-Simon Laplace. It is also sometimes called the double exponential distribution, because it can be thought of as two exponential distributions (with an additional location parameter) spliced together back-to-back</q>\n",
    "<img src='https://upload.wikimedia.org/wikipedia/commons/thumb/0/0a/Laplace_pdf_mod.svg/650px-Laplace_pdf_mod.svg.png' style='width: 30vw; margin-left: 0;'/>\n"
   ]
  },
  {
   "cell_type": "markdown",
   "metadata": {},
   "source": [
    "## Question 1\n",
    "We have key information about the population (mean, stddev), from which a normal distribution can be built, and CLT can be applied. \n",
    "\n",
    "I will build a sample distribution of the sample mean based on 100 observations per sample:"
   ]
  },
  {
   "cell_type": "code",
   "execution_count": 9,
   "metadata": {},
   "outputs": [
    {
     "name": "stdout",
     "output_type": "stream",
     "text": [
      "95.7 124.7\n"
     ]
    }
   ],
   "source": [
    "import math\n",
    "\n",
    "#population parameters\n",
    "popmu = 95.7\n",
    "popsigma = 1247\n",
    "n = 100 \n",
    "\n",
    "#sample mean is same as population mean \n",
    "samplemu = popmu\n",
    "\n",
    "#sample stddev = popstddev / root(samplesize)\n",
    "samplesigma = popsigma/math.sqrt(n)\n",
    "\n",
    "print(samplemu, samplesigma)"
   ]
  },
  {
   "cell_type": "markdown",
   "metadata": {},
   "source": [
    "Now that I have obtained statistics for the sample distribution of the sample mean, I will calculate the maximum size that each trade can be on average, in order to result in a net loss. \n",
    "\n",
    "The total profit would be 0, therefore the average PnL of a trade in a net 0 week would be 0. \n",
    "\n",
    "0USD total / 100 trades = **0USD/trade**\n",
    "\n",
    "Next, I will calulate the difference of the average trade from the mean in terms of the sample standard deviation, and look up the value in a Z table. \n",
    "\n",
    "The average trade PnL is 0USD, therefore the difference of 0 from the mean is the mean itself * -1, **-95.7**. \n",
    "\n",
    "Divided by the sample sd: "
   ]
  },
  {
   "cell_type": "code",
   "execution_count": 12,
   "metadata": {},
   "outputs": [
    {
     "data": {
      "text/plain": [
       "-0.7674418604651163"
      ]
     },
     "execution_count": 12,
     "metadata": {},
     "output_type": "execute_result"
    }
   ],
   "source": [
    "-1 * samplemu/ samplesigma"
   ]
  },
  {
   "cell_type": "markdown",
   "metadata": {},
   "source": [
    "In the Z table, this appears as 0.2206 = **22.06% Chance of making a loss**"
   ]
  },
  {
   "cell_type": "markdown",
   "metadata": {},
   "source": [
    "## Question 2\n",
    "What is the probability of making over 20,000USD in a week? \n",
    "\n",
    "The same approach as above can be used. "
   ]
  },
  {
   "cell_type": "code",
   "execution_count": 13,
   "metadata": {},
   "outputs": [],
   "source": [
    "#average trade PnL = net PnL / num trades\n",
    "averagepnl = 20000 / 100 "
   ]
  },
  {
   "cell_type": "code",
   "execution_count": 14,
   "metadata": {},
   "outputs": [
    {
     "data": {
      "text/plain": [
       "0.8364073777064955"
      ]
     },
     "execution_count": 14,
     "metadata": {},
     "output_type": "execute_result"
    }
   ],
   "source": [
    "#how many standard deviations from mean is the value?\n",
    "(averagepnl - samplemu) / samplesigma"
   ]
  },
  {
   "cell_type": "markdown",
   "metadata": {},
   "source": [
    "What is 0.83641 in the Z-table?\n",
    "79.95%\n",
    "\n",
    "This value is the proability of a week < 20,000, therefore the probability of a week > 20,000 is 1 - 79.95% = **20.05%**"
   ]
  },
  {
   "cell_type": "code",
   "execution_count": null,
   "metadata": {},
   "outputs": [],
   "source": []
  }
 ],
 "metadata": {
  "kernelspec": {
   "display_name": "Python 3",
   "language": "python",
   "name": "python3"
  },
  "language_info": {
   "codemirror_mode": {
    "name": "ipython",
    "version": 3
   },
   "file_extension": ".py",
   "mimetype": "text/x-python",
   "name": "python",
   "nbconvert_exporter": "python",
   "pygments_lexer": "ipython3",
   "version": "3.8.5"
  }
 },
 "nbformat": 4,
 "nbformat_minor": 4
}
